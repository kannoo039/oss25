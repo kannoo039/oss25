{
  "nbformat": 4,
  "nbformat_minor": 0,
  "metadata": {
    "colab": {
      "provenance": [],
      "toc_visible": true,
      "authorship_tag": "ABX9TyPJYgMUXN+38TMOijzZEWok",
      "include_colab_link": true
    },
    "kernelspec": {
      "name": "python3",
      "display_name": "Python 3"
    },
    "language_info": {
      "name": "python"
    }
  },
  "cells": [
    {
      "cell_type": "markdown",
      "metadata": {
        "id": "view-in-github",
        "colab_type": "text"
      },
      "source": [
        "<a href=\"https://colab.research.google.com/github/kannoo039/oss25/blob/main/%EA%B3%B5%ED%95%99%EC%9A%A9_%EA%B3%84%EC%82%B0%EA%B8%B0.ipynb\" target=\"_parent\"><img src=\"https://colab.research.google.com/assets/colab-badge.svg\" alt=\"Open In Colab\"/></a>"
      ]
    },
    {
      "cell_type": "markdown",
      "source": [
        "#코드 값 구하기"
      ],
      "metadata": {
        "id": "lepF32Q4JNSY"
      }
    },
    {
      "cell_type": "code",
      "source": [
        "\n",
        "slider_value = 100  # @param {type: \"slider\", min: 100, max: 200}\n",
        "x = 4  # @param {type: \"number\"}\n",
        "date = '2010-11-05'  # @param {type: \"date\"}\n",
        "pick_me = \"monday\"  # @param ['monday', 'tuesday', 'wednesday', 'thursday']\n",
        "select_or_input = \"apples\" # @param [\"apples\", \"bananas\", \"oranges\"] {allow-input: true}\n",
        "# @markdown ---\n"
      ],
      "metadata": {
        "id": "0JNAtqiHJTNM"
      },
      "execution_count": 15,
      "outputs": []
    },
    {
      "cell_type": "markdown",
      "source": [
        "#공학용 계산기 개발의 필요성\n",
        "본 프로젝트는 많은 학생들이 공학용 계산기를 구매해야하는 문제를 해결하기 위해 만들었습니다. 예를 들면 $x^6$을 개발하는게 어렵습니다."
      ],
      "metadata": {
        "id": "2_I16i0UFMzb"
      }
    },
    {
      "cell_type": "markdown",
      "source": [
        "지수 값 구하기"
      ],
      "metadata": {
        "id": "Ste5aC9iGE_C"
      }
    },
    {
      "cell_type": "code",
      "source": [
        "x6= x*x*x*x*x*x\n",
        "x6\n",
        "if x6>200000000:\n",
        "  print(\"너무 큰 수를 입력하셨습니다.\")"
      ],
      "metadata": {
        "id": "qjeHCkyVFzj1"
      },
      "execution_count": 16,
      "outputs": []
    }
  ]
}